{
  "nbformat": 4,
  "nbformat_minor": 0,
  "metadata": {
    "colab": {
      "name": "コード作成用.ipynb",
      "provenance": [],
      "include_colab_link": true
    },
    "kernelspec": {
      "name": "python3",
      "display_name": "Python 3"
    },
    "language_info": {
      "name": "python"
    }
  },
  "cells": [
    {
      "cell_type": "markdown",
      "metadata": {
        "id": "view-in-github",
        "colab_type": "text"
      },
      "source": [
        "<a href=\"https://colab.research.google.com/github/1900690/streamlit-vgg16-app/blob/main/%E3%82%B3%E3%83%BC%E3%83%89%E4%BD%9C%E6%88%90%E7%94%A8.2.ipynb\" target=\"_parent\"><img src=\"https://colab.research.google.com/assets/colab-badge.svg\" alt=\"Open In Colab\"/></a>"
      ]
    },
    {
      "cell_type": "markdown",
      "source": [
        "コードファイルはcontentにできるのでgithubにアップロードすること"
      ],
      "metadata": {
        "id": "DE8zQlrH15Mn"
      }
    },
    {
      "cell_type": "markdown",
      "source": [
        "main.pyを作成する"
      ],
      "metadata": {
        "id": "ToQyg8gi1frY"
      }
    },
    {
      "cell_type": "code",
      "execution_count": 5,
      "metadata": {
        "id": "8MXY84I70200",
        "outputId": "c029a2ff-613b-479b-f1ba-304675e92d1f",
        "colab": {
          "base_uri": "https://localhost:8080/"
        }
      },
      "outputs": [
        {
          "output_type": "stream",
          "name": "stdout",
          "text": [
            "Overwriting main.py\n"
          ]
        }
      ],
      "source": [
        "%%writefile main.py\n",
        "import streamlit as st\n",
        "from PIL import Image\n",
        "from classify import predict\n",
        "\n",
        "st.title(\"アップロードした画像を解析します\")\n",
        "\n",
        "uploaded_file = st.file_uploader(\"画像を選択してください...\", type=\"jpg\")\n",
        "if uploaded_file is not None:\n",
        "    image = Image.open(uploaded_file)\n",
        "    st.image(image, caption='画像をアップロードしています', use_column_width=True)\n",
        "    st.write(\"\")\n",
        "    st.write(\"分析中です...\")\n",
        "    label = predict(uploaded_file)\n",
        "    st.write('%s (%.2f%%)' % (label[1], label[2]*100))"
      ]
    },
    {
      "cell_type": "markdown",
      "source": [
        "classify.pyを作成する"
      ],
      "metadata": {
        "id": "SyFblwoA1sKU"
      }
    },
    {
      "cell_type": "code",
      "source": [
        "%%writefile classify.py\n",
        "from tensorflow.keras.preprocessing.image import load_img\n",
        "from tensorflow.keras.preprocessing.image import img_to_array\n",
        "from tensorflow.keras.applications.vgg16 import preprocess_input\n",
        "from tensorflow.keras.applications.vgg16 import decode_predictions\n",
        "from tensorflow.keras.applications.vgg16 import VGG16\n",
        "\n",
        "from PIL import Image\n",
        "\n",
        "import numpy as np\n",
        "\n",
        "def predict(image1):\n",
        "    model = VGG16()\n",
        "\n",
        "    image = Image.open(image1)\n",
        "    image = image.resize((224,224))\n",
        "    image = np.array(image)\n",
        "\n",
        "    # image = load_img(image1, target_size=(224, 224))\n",
        "    # 画像のピクセルをnumpyの配列に変換する\n",
        "    # image = img_to_array(image)\n",
        "    # モデル用にデータを再形成する\n",
        "    image = image.reshape((1, image.shape[0], image.shape[1], image.shape[2]))\n",
        "    # VGGモデル用の画像を用意する\n",
        "    image = preprocess_input(image)\n",
        "    # すべての出力クラスで確率を予測する\n",
        "    yhat = model.predict(image)\n",
        "    # 確率をクラスラベルに変換する\n",
        "    label = decode_predictions(yhat)\n",
        "    # 最も可能性の高い結果を取得する\n",
        "    label = label[0][0]\n",
        "    return label"
      ],
      "metadata": {
        "id": "PEZFB2cf1zbe",
        "outputId": "4072321c-c452-4f65-87a7-245a46efe876",
        "colab": {
          "base_uri": "https://localhost:8080/"
        }
      },
      "execution_count": 4,
      "outputs": [
        {
          "output_type": "stream",
          "name": "stdout",
          "text": [
            "Writing classify.py\n"
          ]
        }
      ]
    }
  ]
}