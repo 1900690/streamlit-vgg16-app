{
  "nbformat": 4,
  "nbformat_minor": 0,
  "metadata": {
    "colab": {
      "name": "コード作成用.ipynb",
      "provenance": [],
      "authorship_tag": "ABX9TyOHm1E3s3ru7yALyuDhEVr8",
      "include_colab_link": true
    },
    "kernelspec": {
      "name": "python3",
      "display_name": "Python 3"
    },
    "language_info": {
      "name": "python"
    }
  },
  "cells": [
    {
      "cell_type": "markdown",
      "metadata": {
        "id": "view-in-github",
        "colab_type": "text"
      },
      "source": [
        "<a href=\"https://colab.research.google.com/github/1900690/streamlit-vgg16-app/blob/main/%E3%82%B3%E3%83%BC%E3%83%89%E4%BD%9C%E6%88%90%E7%94%A8.1.ipynb\" target=\"_parent\"><img src=\"https://colab.research.google.com/assets/colab-badge.svg\" alt=\"Open In Colab\"/></a>"
      ]
    },
    {
      "cell_type": "code",
      "execution_count": null,
      "metadata": {
        "id": "8MXY84I70200"
      },
      "outputs": [],
      "source": [
        ""
      ]
    }
  ]
}